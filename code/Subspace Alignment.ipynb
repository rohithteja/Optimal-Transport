{
 "cells": [
  {
   "cell_type": "code",
   "execution_count": null,
   "metadata": {},
   "outputs": [],
   "source": [
    "#Transfer Learning and Optimal Transport"
   ]
  },
  {
   "cell_type": "code",
   "execution_count": 59,
   "metadata": {},
   "outputs": [],
   "source": [
    "import numpy as np\n",
    "import pandas as pd\n",
    "from scipy.io import loadmat\n",
    "from matplotlib import pyplot as plt\n",
    "from sklearn.decomposition import PCA\n",
    "from sklearn.preprocessing import StandardScaler\n",
    "from sklearn.neighbors import KNeighborsClassifier\n",
    "from sklearn.metrics import accuracy_score\n",
    "from itertools import permutations \n",
    "from time import time"
   ]
  },
  {
   "cell_type": "code",
   "execution_count": 60,
   "metadata": {},
   "outputs": [],
   "source": [
    "#caffenet\n",
    "caffe_webcam = loadmat(\"CaffeNet4096/webcam.mat\")\n",
    "caffe_dslr = loadmat(\"CaffeNet4096/dslr.mat\")\n",
    "caffe_amazon = loadmat(\"CaffeNet4096/amazon.mat\")"
   ]
  },
  {
   "cell_type": "code",
   "execution_count": 61,
   "metadata": {},
   "outputs": [],
   "source": [
    "caffe_list = [caffe_webcam,caffe_dslr,caffe_amazon]\n",
    "caffe_iter = list(permutations(caffe_list,2))"
   ]
  },
  {
   "cell_type": "code",
   "execution_count": 62,
   "metadata": {},
   "outputs": [],
   "source": [
    "#googlenet\n",
    "google_webcam = loadmat(\"GoogleNet1024/webcam.mat\")\n",
    "google_dslr = loadmat(\"GoogleNet1024/dslr.mat\")\n",
    "google_amazon = loadmat(\"GoogleNet1024/amazon.mat\")"
   ]
  },
  {
   "cell_type": "code",
   "execution_count": 63,
   "metadata": {},
   "outputs": [],
   "source": [
    "google_list = [google_webcam,google_dslr,google_amazon]\n",
    "google_iter = list(permutations(google_list,2))"
   ]
  },
  {
   "cell_type": "code",
   "execution_count": 64,
   "metadata": {},
   "outputs": [],
   "source": [
    "#surf\n",
    "surf_webcam = loadmat(\"surf/webcam.mat\")\n",
    "surf_dslr = loadmat(\"surf/dslr.mat\")\n",
    "surf_amazon = loadmat(\"surf/amazon.mat\")"
   ]
  },
  {
   "cell_type": "code",
   "execution_count": 65,
   "metadata": {},
   "outputs": [],
   "source": [
    "surf_list = [surf_webcam,surf_dslr,surf_amazon]\n",
    "surf_iter = list(permutations(surf_list,2))"
   ]
  },
  {
   "cell_type": "code",
   "execution_count": 66,
   "metadata": {},
   "outputs": [],
   "source": [
    "class subspace:\n",
    "    def __init__(self,dataset,S,T,d):\n",
    "        self.dataset = dataset\n",
    "        self.S = S\n",
    "        self.T = T\n",
    "        self.d = d\n",
    "        \n",
    "    def pca(self,x, n_components):\n",
    "        cov = np.cov(x , rowvar = False)\n",
    "        eigen_values , eigen_vectors = np.linalg.eigh(cov)\n",
    "        sorted_index = np.argsort(eigen_values)[::-1]\n",
    "        sorted_eigenvalue = eigen_values[sorted_index]\n",
    "        sorted_eigenvectors = eigen_vectors[:,sorted_index]\n",
    "        return sorted_eigenvectors[:,0:n_components]\n",
    "    def fit_predict(self):\n",
    "        #normalising the data\n",
    "        scale = StandardScaler()\n",
    "        x_S = self.S[\"fts\"]\n",
    "        x_T = self.T[\"fts\"]\n",
    "        x_T = scale.fit_transform(x_T)\n",
    "        x_S = scale.fit_transform(x_S)\n",
    "        \n",
    "        if self.dataset == \"surf\":\n",
    "            y_S = self.S[\"labels\"]\n",
    "            y_T = self.T[\"labels\"]\n",
    "        else:\n",
    "            y_S = self.S[\"labels\"][0]\n",
    "            y_T = self.T[\"labels\"][0]\n",
    "        \n",
    "        #pca and picking the top eigen vectors\n",
    "        xs = self.pca(x_S,self.d)\n",
    "        xt = self.pca(x_T,self.d)\n",
    "        xa = np.dot(np.dot(xs,xs.T),xt)\n",
    "        sa = np.dot(x_S,xa)\n",
    "        st = np.dot(x_T,xt)\n",
    "        \n",
    "        #knn classifier\n",
    "        knn = KNeighborsClassifier(1)\n",
    "        knn.fit(sa,y_S)\n",
    "        labels = knn.predict(st)\n",
    "        return accuracy_score(labels,y_T)\n",
    "    \n",
    "def knn(dataset,S,T):\n",
    "    x_S = S[\"fts\"]\n",
    "    x_T = T[\"fts\"]\n",
    "    if dataset == \"surf\":\n",
    "        y_S = S[\"labels\"]\n",
    "        y_T = T[\"labels\"]\n",
    "    else:\n",
    "        y_S = S[\"labels\"][0]\n",
    "        y_T = T[\"labels\"][0]\n",
    "    scale = StandardScaler()\n",
    "    x_S = scale.fit_transform(x_S)\n",
    "    x_T = scale.fit_transform(x_T)\n",
    "    knn = KNeighborsClassifier(1)\n",
    "    knn.fit(x_S,y_S)\n",
    "    labels = knn.predict(x_T)\n",
    "    return accuracy_score(labels,y_T)"
   ]
  },
  {
   "cell_type": "code",
   "execution_count": 123,
   "metadata": {},
   "outputs": [],
   "source": [
    "#caffe\n",
    "\n",
    "list1 = [\"webcam\",\"dslr\",\"amazon\"]\n",
    "index = list(permutations(list1,2))\n",
    "methods = [\"subspace\",\"without subspace\"]\n",
    "caffe_timedf = pd.DataFrame(index=index,columns=methods)\n",
    "caffe_accdf = pd.DataFrame(index=index,columns=methods)\n",
    "\n",
    "for i in range(len(index)):\n",
    "    t0 = time()\n",
    "    sub = subspace(\"caffe\",caffe_iter[i][0],caffe_iter[i][1],13)\n",
    "    caffe_accdf.iloc[i,0] = sub.fit_predict()*100\n",
    "    t1 = time()\n",
    "    caffe_timedf.iloc[i,0] = t1-t0\n",
    "    t2 = time()\n",
    "    caffe_accdf.iloc[i,1] = knn(\"caffe\",caffe_iter[i][0],caffe_iter[i][1])*100\n",
    "    t3 = time()\n",
    "    caffe_timedf.iloc[i,1] = t3-t2"
   ]
  },
  {
   "cell_type": "code",
   "execution_count": 124,
   "metadata": {},
   "outputs": [],
   "source": [
    "#google\n",
    "\n",
    "list1 = [\"webcam\",\"dslr\",\"amazon\"]\n",
    "index = list(permutations(list1,2))\n",
    "methods = [\"subspace\",\"without subspace\"]\n",
    "google_timedf = pd.DataFrame(index=index,columns=methods)\n",
    "google_accdf = pd.DataFrame(index=index,columns=methods)\n",
    "\n",
    "for i in range(len(index)):\n",
    "    t0 = time()\n",
    "    sub = subspace(\"google\",google_iter[i][0],google_iter[i][1],13)\n",
    "    google_accdf.iloc[i,0] = sub.fit_predict()*100\n",
    "    t1 = time()\n",
    "    google_timedf.iloc[i,0] = t1-t0\n",
    "    t2 = time()\n",
    "    google_accdf.iloc[i,1] = knn(\"google\",google_iter[i][0],google_iter[i][1])*100\n",
    "    t3 = time()\n",
    "    google_timedf.iloc[i,1] = t3-t2"
   ]
  },
  {
   "cell_type": "code",
   "execution_count": 125,
   "metadata": {},
   "outputs": [
    {
     "name": "stderr",
     "output_type": "stream",
     "text": [
      "<ipython-input-66-d7fabab889a5>:39: DataConversionWarning: A column-vector y was passed when a 1d array was expected. Please change the shape of y to (n_samples, ), for example using ravel().\n",
      "  knn.fit(sa,y_S)\n",
      "<ipython-input-66-d7fabab889a5>:56: DataConversionWarning: A column-vector y was passed when a 1d array was expected. Please change the shape of y to (n_samples, ), for example using ravel().\n",
      "  knn.fit(x_S,y_S)\n",
      "<ipython-input-66-d7fabab889a5>:39: DataConversionWarning: A column-vector y was passed when a 1d array was expected. Please change the shape of y to (n_samples, ), for example using ravel().\n",
      "  knn.fit(sa,y_S)\n",
      "<ipython-input-66-d7fabab889a5>:56: DataConversionWarning: A column-vector y was passed when a 1d array was expected. Please change the shape of y to (n_samples, ), for example using ravel().\n",
      "  knn.fit(x_S,y_S)\n",
      "<ipython-input-66-d7fabab889a5>:39: DataConversionWarning: A column-vector y was passed when a 1d array was expected. Please change the shape of y to (n_samples, ), for example using ravel().\n",
      "  knn.fit(sa,y_S)\n",
      "<ipython-input-66-d7fabab889a5>:56: DataConversionWarning: A column-vector y was passed when a 1d array was expected. Please change the shape of y to (n_samples, ), for example using ravel().\n",
      "  knn.fit(x_S,y_S)\n",
      "<ipython-input-66-d7fabab889a5>:39: DataConversionWarning: A column-vector y was passed when a 1d array was expected. Please change the shape of y to (n_samples, ), for example using ravel().\n",
      "  knn.fit(sa,y_S)\n",
      "<ipython-input-66-d7fabab889a5>:56: DataConversionWarning: A column-vector y was passed when a 1d array was expected. Please change the shape of y to (n_samples, ), for example using ravel().\n",
      "  knn.fit(x_S,y_S)\n",
      "<ipython-input-66-d7fabab889a5>:39: DataConversionWarning: A column-vector y was passed when a 1d array was expected. Please change the shape of y to (n_samples, ), for example using ravel().\n",
      "  knn.fit(sa,y_S)\n",
      "<ipython-input-66-d7fabab889a5>:56: DataConversionWarning: A column-vector y was passed when a 1d array was expected. Please change the shape of y to (n_samples, ), for example using ravel().\n",
      "  knn.fit(x_S,y_S)\n",
      "<ipython-input-66-d7fabab889a5>:39: DataConversionWarning: A column-vector y was passed when a 1d array was expected. Please change the shape of y to (n_samples, ), for example using ravel().\n",
      "  knn.fit(sa,y_S)\n",
      "<ipython-input-66-d7fabab889a5>:56: DataConversionWarning: A column-vector y was passed when a 1d array was expected. Please change the shape of y to (n_samples, ), for example using ravel().\n",
      "  knn.fit(x_S,y_S)\n"
     ]
    }
   ],
   "source": [
    "#surf\n",
    "\n",
    "list1 = [\"webcam\",\"dslr\",\"amazon\"]\n",
    "index = list(permutations(list1,2))\n",
    "methods = [\"subspace\",\"without subspace\"]\n",
    "surf_timedf = pd.DataFrame(index=index,columns=methods)\n",
    "surf_accdf = pd.DataFrame(index=index,columns=methods)\n",
    "\n",
    "for i in range(len(index)):\n",
    "    t0 = time()\n",
    "    sub = subspace(\"surf\",surf_iter[i][0],surf_iter[i][1],13)\n",
    "    surf_accdf.iloc[i,0] = sub.fit_predict()*100\n",
    "    t1 = time()\n",
    "    surf_timedf.iloc[i,0] = t1-t0\n",
    "    t2 = time()\n",
    "    surf_accdf.iloc[i,1] = knn(\"surf\",surf_iter[i][0],surf_iter[i][1])*100\n",
    "    t3 = time()\n",
    "    surf_timedf.iloc[i,1] = t3-t2"
   ]
  },
  {
   "cell_type": "code",
   "execution_count": 120,
   "metadata": {},
   "outputs": [],
   "source": [
    "t = surf_accdf"
   ]
  },
  {
   "cell_type": "code",
   "execution_count": 121,
   "metadata": {},
   "outputs": [],
   "source": [
    "t[\"improvement\"] = (t[\"subspace\"]-t[\"without subspace\"])/t[\"subspace\"]*100\n",
    "t.improvement = t.improvement.map(lambda x:round(x))"
   ]
  },
  {
   "cell_type": "code",
   "execution_count": 126,
   "metadata": {},
   "outputs": [
    {
     "data": {
      "text/html": [
       "<div>\n",
       "<style scoped>\n",
       "    .dataframe tbody tr th:only-of-type {\n",
       "        vertical-align: middle;\n",
       "    }\n",
       "\n",
       "    .dataframe tbody tr th {\n",
       "        vertical-align: top;\n",
       "    }\n",
       "\n",
       "    .dataframe thead th {\n",
       "        text-align: right;\n",
       "    }\n",
       "</style>\n",
       "<table border=\"1\" class=\"dataframe\">\n",
       "  <thead>\n",
       "    <tr style=\"text-align: right;\">\n",
       "      <th></th>\n",
       "      <th>subspace</th>\n",
       "      <th>without subspace</th>\n",
       "    </tr>\n",
       "  </thead>\n",
       "  <tbody>\n",
       "    <tr>\n",
       "      <th>(webcam, dslr)</th>\n",
       "      <td>98.7261</td>\n",
       "      <td>96.1783</td>\n",
       "    </tr>\n",
       "    <tr>\n",
       "      <th>(webcam, amazon)</th>\n",
       "      <td>87.2651</td>\n",
       "      <td>69.7286</td>\n",
       "    </tr>\n",
       "    <tr>\n",
       "      <th>(dslr, webcam)</th>\n",
       "      <td>98.6441</td>\n",
       "      <td>95.2542</td>\n",
       "    </tr>\n",
       "    <tr>\n",
       "      <th>(dslr, amazon)</th>\n",
       "      <td>82.4635</td>\n",
       "      <td>70.7724</td>\n",
       "    </tr>\n",
       "    <tr>\n",
       "      <th>(amazon, webcam)</th>\n",
       "      <td>87.7966</td>\n",
       "      <td>74.2373</td>\n",
       "    </tr>\n",
       "    <tr>\n",
       "      <th>(amazon, dslr)</th>\n",
       "      <td>90.4459</td>\n",
       "      <td>81.5287</td>\n",
       "    </tr>\n",
       "  </tbody>\n",
       "</table>\n",
       "</div>"
      ],
      "text/plain": [
       "                 subspace without subspace\n",
       "(webcam, dslr)    98.7261          96.1783\n",
       "(webcam, amazon)  87.2651          69.7286\n",
       "(dslr, webcam)    98.6441          95.2542\n",
       "(dslr, amazon)    82.4635          70.7724\n",
       "(amazon, webcam)  87.7966          74.2373\n",
       "(amazon, dslr)    90.4459          81.5287"
      ]
     },
     "execution_count": 126,
     "metadata": {},
     "output_type": "execute_result"
    }
   ],
   "source": [
    "caffe_accdf"
   ]
  },
  {
   "cell_type": "code",
   "execution_count": 129,
   "metadata": {},
   "outputs": [
    {
     "data": {
      "text/html": [
       "<div>\n",
       "<style scoped>\n",
       "    .dataframe tbody tr th:only-of-type {\n",
       "        vertical-align: middle;\n",
       "    }\n",
       "\n",
       "    .dataframe tbody tr th {\n",
       "        vertical-align: top;\n",
       "    }\n",
       "\n",
       "    .dataframe thead th {\n",
       "        text-align: right;\n",
       "    }\n",
       "</style>\n",
       "<table border=\"1\" class=\"dataframe\">\n",
       "  <thead>\n",
       "    <tr style=\"text-align: right;\">\n",
       "      <th></th>\n",
       "      <th>subspace</th>\n",
       "      <th>without subspace</th>\n",
       "    </tr>\n",
       "  </thead>\n",
       "  <tbody>\n",
       "    <tr>\n",
       "      <th>(webcam, dslr)</th>\n",
       "      <td>0.140591</td>\n",
       "      <td>0.140592</td>\n",
       "    </tr>\n",
       "    <tr>\n",
       "      <th>(webcam, amazon)</th>\n",
       "      <td>0.173923</td>\n",
       "      <td>0.52877</td>\n",
       "    </tr>\n",
       "    <tr>\n",
       "      <th>(dslr, webcam)</th>\n",
       "      <td>0.140594</td>\n",
       "      <td>0.140592</td>\n",
       "    </tr>\n",
       "    <tr>\n",
       "      <th>(dslr, amazon)</th>\n",
       "      <td>0.201098</td>\n",
       "      <td>0.296805</td>\n",
       "    </tr>\n",
       "    <tr>\n",
       "      <th>(amazon, webcam)</th>\n",
       "      <td>0.172899</td>\n",
       "      <td>0.566615</td>\n",
       "    </tr>\n",
       "    <tr>\n",
       "      <th>(amazon, dslr)</th>\n",
       "      <td>0.140561</td>\n",
       "      <td>0.393137</td>\n",
       "    </tr>\n",
       "  </tbody>\n",
       "</table>\n",
       "</div>"
      ],
      "text/plain": [
       "                  subspace without subspace\n",
       "(webcam, dslr)    0.140591         0.140592\n",
       "(webcam, amazon)  0.173923          0.52877\n",
       "(dslr, webcam)    0.140594         0.140592\n",
       "(dslr, amazon)    0.201098         0.296805\n",
       "(amazon, webcam)  0.172899         0.566615\n",
       "(amazon, dslr)    0.140561         0.393137"
      ]
     },
     "execution_count": 129,
     "metadata": {},
     "output_type": "execute_result"
    }
   ],
   "source": [
    "surf_timedf"
   ]
  },
  {
   "cell_type": "code",
   "execution_count": null,
   "metadata": {},
   "outputs": [],
   "source": []
  }
 ],
 "metadata": {
  "kernelspec": {
   "display_name": "Python 3",
   "language": "python",
   "name": "python3"
  },
  "language_info": {
   "codemirror_mode": {
    "name": "ipython",
    "version": 3
   },
   "file_extension": ".py",
   "mimetype": "text/x-python",
   "name": "python",
   "nbconvert_exporter": "python",
   "pygments_lexer": "ipython3",
   "version": "3.8.3"
  }
 },
 "nbformat": 4,
 "nbformat_minor": 4
}
