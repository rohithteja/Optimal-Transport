{
 "cells": [
  {
   "cell_type": "code",
   "execution_count": null,
   "metadata": {},
   "outputs": [],
   "source": [
    "#Transfer Learning and Optimal Transport"
   ]
  },
  {
   "cell_type": "code",
   "execution_count": 14,
   "metadata": {},
   "outputs": [],
   "source": [
    "import numpy as np\n",
    "import pandas as pd\n",
    "from scipy.io import loadmat\n",
    "from sklearn.preprocessing import normalize\n",
    "from scipy.spatial.distance import cdist\n",
    "from sklearn.preprocessing import StandardScaler\n",
    "import ot\n",
    "from sklearn.neighbors import KNeighborsClassifier\n",
    "from sklearn.metrics import accuracy_score\n",
    "from itertools import permutations \n",
    "from time import time"
   ]
  },
  {
   "cell_type": "code",
   "execution_count": 6,
   "metadata": {},
   "outputs": [],
   "source": [
    "#caffenet\n",
    "caffe_webcam = loadmat(\"CaffeNet4096/webcam.mat\")\n",
    "caffe_dslr = loadmat(\"CaffeNet4096/dslr.mat\")\n",
    "caffe_amazon = loadmat(\"CaffeNet4096/amazon.mat\")"
   ]
  },
  {
   "cell_type": "code",
   "execution_count": 7,
   "metadata": {},
   "outputs": [],
   "source": [
    "caffe_list = [caffe_webcam,caffe_dslr,caffe_amazon]\n",
    "caffe_iter = list(permutations(caffe_list,2))"
   ]
  },
  {
   "cell_type": "code",
   "execution_count": 8,
   "metadata": {},
   "outputs": [],
   "source": [
    "#googlenet\n",
    "google_webcam = loadmat(\"GoogleNet1024/webcam.mat\")\n",
    "google_dslr = loadmat(\"GoogleNet1024/dslr.mat\")\n",
    "google_amazon = loadmat(\"GoogleNet1024/amazon.mat\")"
   ]
  },
  {
   "cell_type": "code",
   "execution_count": 9,
   "metadata": {},
   "outputs": [],
   "source": [
    "google_list = [google_webcam,google_dslr,google_amazon]\n",
    "google_iter = list(permutations(google_list,2))"
   ]
  },
  {
   "cell_type": "code",
   "execution_count": 10,
   "metadata": {},
   "outputs": [],
   "source": [
    "#surf\n",
    "surf_webcam = loadmat(\"surf/webcam.mat\")\n",
    "surf_dslr = loadmat(\"surf/dslr.mat\")\n",
    "surf_amazon = loadmat(\"surf/amazon.mat\")"
   ]
  },
  {
   "cell_type": "code",
   "execution_count": 11,
   "metadata": {},
   "outputs": [],
   "source": [
    "surf_list = [surf_webcam,surf_dslr,surf_amazon]\n",
    "surf_iter = list(permutations(surf_list,2))"
   ]
  },
  {
   "cell_type": "code",
   "execution_count": 15,
   "metadata": {},
   "outputs": [],
   "source": [
    "class entropic_ot:\n",
    "    def __init__(self,dataset,S,T,reg_e):\n",
    "        self.dataset = dataset\n",
    "        self.S = S\n",
    "        self.T = T\n",
    "        self.reg_e = reg_e   \n",
    "            \n",
    "    def fit_predict(self):\n",
    "        x_S = self.S[\"fts\"]\n",
    "        x_T = self.T[\"fts\"]\n",
    "        if self.dataset == \"surf\":\n",
    "            y_S = self.S[\"labels\"]\n",
    "            y_T = self.T[\"labels\"]\n",
    "        else:\n",
    "            y_S = self.S[\"labels\"][0]\n",
    "            y_T = self.T[\"labels\"][0]\n",
    "        a = np.ones(x_S.shape[0])\n",
    "        b = np.ones(x_T.shape[0])\n",
    "        M = cdist(x_S,x_T)\n",
    "        M = normalize(M,norm=\"max\")\n",
    "        G = ot.sinkhorn(a,b,M,self.reg_e) #entropic regularization parameter is chosen as 0.1\n",
    "        sa = np.dot(G,x_T)\n",
    "        #knn classifier\n",
    "        knn = KNeighborsClassifier(1)\n",
    "        knn.fit(sa,y_S)\n",
    "        labels = knn.predict(x_T)\n",
    "        return accuracy_score(labels,y_T)*100\n",
    "    \n",
    "def knn(dataset,S,T):\n",
    "    x_S = S[\"fts\"]\n",
    "    x_T = T[\"fts\"]\n",
    "    if dataset == \"surf\":\n",
    "        y_S = S[\"labels\"]\n",
    "        y_T = T[\"labels\"]\n",
    "    else:\n",
    "        y_S = S[\"labels\"][0]\n",
    "        y_T = T[\"labels\"][0]\n",
    "    scale = StandardScaler()\n",
    "    x_S = scale.fit_transform(x_S)\n",
    "    x_T = scale.fit_transform(x_T)\n",
    "    knn = KNeighborsClassifier(1)\n",
    "    knn.fit(x_S,y_S)\n",
    "    labels = knn.predict(x_T)\n",
    "    return accuracy_score(labels,y_T)*100\n",
    "\n",
    "def sinkhorn_implementation(dataset,S,T):\n",
    "    x_S = S[\"fts\"]\n",
    "    x_T = T[\"fts\"]\n",
    "    if dataset == \"surf\":\n",
    "        y_S = S[\"labels\"]\n",
    "        y_T = T[\"labels\"]\n",
    "    else:\n",
    "        y_S = S[\"labels\"][0]\n",
    "        y_T = T[\"labels\"][0]\n",
    "    a = np.ones(x_S.shape[0])\n",
    "    b = np.ones(x_T.shape[0])\n",
    "    M = cdist(x_S,x_T)\n",
    "    M = normalize(M,norm=\"max\")\n",
    "    gamma = 0.01\n",
    "    K = np.exp(-M/gamma)\n",
    "    u = np.ones(x_S.shape[0])\n",
    "    v = np.ones(x_T.shape[0])\n",
    "\n",
    "    for i in range(70):\n",
    "        u = a/np.dot(K,v)\n",
    "        v = b/np.dot(K.T,u)\n",
    "\n",
    "    G = u.reshape(-1, 1) * K * v.reshape(1, -1)\n",
    "    sa = np.dot(G,x_T)\n",
    "    #knn classifier\n",
    "    knn = KNeighborsClassifier(1)\n",
    "    knn.fit(sa,y_S)\n",
    "    labels = knn.predict(x_T)\n",
    "    return accuracy_score(labels,y_T)*100"
   ]
  },
  {
   "cell_type": "code",
   "execution_count": 17,
   "metadata": {},
   "outputs": [
    {
     "name": "stderr",
     "output_type": "stream",
     "text": [
      "C:\\Users\\User\\anaconda3\\lib\\site-packages\\ot\\bregman.py:363: RuntimeWarning: overflow encountered in true_divide\n",
      "  v = np.divide(b, KtransposeU)\n"
     ]
    },
    {
     "name": "stdout",
     "output_type": "stream",
     "text": [
      "Warning: numerical errors at iteration 595\n"
     ]
    },
    {
     "name": "stderr",
     "output_type": "stream",
     "text": [
      "C:\\Users\\User\\anaconda3\\lib\\site-packages\\ot\\bregman.py:363: RuntimeWarning: overflow encountered in true_divide\n",
      "  v = np.divide(b, KtransposeU)\n"
     ]
    },
    {
     "name": "stdout",
     "output_type": "stream",
     "text": [
      "Warning: numerical errors at iteration 388\n"
     ]
    },
    {
     "name": "stderr",
     "output_type": "stream",
     "text": [
      "C:\\Users\\User\\anaconda3\\lib\\site-packages\\ot\\bregman.py:364: RuntimeWarning: overflow encountered in true_divide\n",
      "  u = 1. / np.dot(Kp, v)\n"
     ]
    },
    {
     "name": "stdout",
     "output_type": "stream",
     "text": [
      "Warning: numerical errors at iteration 607\n"
     ]
    },
    {
     "name": "stderr",
     "output_type": "stream",
     "text": [
      "C:\\Users\\User\\anaconda3\\lib\\site-packages\\ot\\bregman.py:364: RuntimeWarning: overflow encountered in true_divide\n",
      "  u = 1. / np.dot(Kp, v)\n"
     ]
    },
    {
     "name": "stdout",
     "output_type": "stream",
     "text": [
      "Warning: numerical errors at iteration 395\n"
     ]
    }
   ],
   "source": [
    "#caffe\n",
    "\n",
    "list1 = [\"webcam\",\"dslr\",\"amazon\"]\n",
    "index = list(permutations(list1,2))\n",
    "methods = [\"sinkhorn library\",\"sinkhorn implementation\",\"without sinkhorn\"]\n",
    "caffe_timedf = pd.DataFrame(index=index,columns=methods)\n",
    "caffe_accdf = pd.DataFrame(index=index,columns=methods)\n",
    "\n",
    "for i in range(len(index)):\n",
    "    t0 = time()\n",
    "    ent = entropic_ot(\"caffe\",caffe_iter[i][0],caffe_iter[i][1],0.1)\n",
    "    caffe_accdf.iloc[i,0] = ent.fit_predict()\n",
    "    t1 = time()\n",
    "    caffe_timedf.iloc[i,0] = t1-t0\n",
    "    t0 = time()\n",
    "    caffe_accdf.iloc[i,2] = knn(\"caffe\",caffe_iter[i][0],caffe_iter[i][1])\n",
    "    t1 = time()\n",
    "    caffe_timedf.iloc[i,2] = t1-t0\n",
    "#     t0 = time()\n",
    "#     skh = sinkhorn_implementation(\"caffe\",caffe_iter[i][0],caffe_iter[i][1])\n",
    "#     caffe_accdf.iloc[i,1] = skh\n",
    "#     t1 = time()\n",
    "#     caffe_timedf.iloc[i,1] = t1-t0"
   ]
  },
  {
   "cell_type": "code",
   "execution_count": 96,
   "metadata": {},
   "outputs": [
    {
     "name": "stderr",
     "output_type": "stream",
     "text": [
      "C:\\Users\\User\\anaconda3\\lib\\site-packages\\ot\\bregman.py:363: RuntimeWarning: overflow encountered in true_divide\n",
      "  v = np.divide(b, KtransposeU)\n"
     ]
    },
    {
     "name": "stdout",
     "output_type": "stream",
     "text": [
      "Warning: numerical errors at iteration 595\n"
     ]
    },
    {
     "name": "stderr",
     "output_type": "stream",
     "text": [
      "C:\\Users\\User\\anaconda3\\lib\\site-packages\\ot\\bregman.py:363: RuntimeWarning: overflow encountered in true_divide\n",
      "  v = np.divide(b, KtransposeU)\n"
     ]
    },
    {
     "name": "stdout",
     "output_type": "stream",
     "text": [
      "Warning: numerical errors at iteration 388\n"
     ]
    },
    {
     "name": "stderr",
     "output_type": "stream",
     "text": [
      "C:\\Users\\User\\anaconda3\\lib\\site-packages\\ot\\bregman.py:364: RuntimeWarning: overflow encountered in true_divide\n",
      "  u = 1. / np.dot(Kp, v)\n"
     ]
    },
    {
     "name": "stdout",
     "output_type": "stream",
     "text": [
      "Warning: numerical errors at iteration 607\n"
     ]
    },
    {
     "name": "stderr",
     "output_type": "stream",
     "text": [
      "C:\\Users\\User\\anaconda3\\lib\\site-packages\\ot\\bregman.py:364: RuntimeWarning: overflow encountered in true_divide\n",
      "  u = 1. / np.dot(Kp, v)\n"
     ]
    },
    {
     "name": "stdout",
     "output_type": "stream",
     "text": [
      "Warning: numerical errors at iteration 395\n"
     ]
    }
   ],
   "source": [
    "#google\n",
    "\n",
    "list1 = [\"webcam\",\"dslr\",\"amazon\"]\n",
    "index = list(permutations(list1,2))\n",
    "methods = [\"sinkhorn library\",\"sinkhorn implementation\",\"without sinkhorn\"]\n",
    "google_timedf = pd.DataFrame(index=index,columns=methods)\n",
    "google_accdf = pd.DataFrame(index=index,columns=methods)\n",
    "\n",
    "for i in range(len(index)):\n",
    "    t0 = time()\n",
    "    ent = entropic_ot(\"google\",google_iter[i][0],google_iter[i][1],0.1)\n",
    "    google_accdf.iloc[i,0] = ent.fit_predict()\n",
    "    t1 = time()\n",
    "    google_timedf.iloc[i,0] = t1-t0\n",
    "    t0 = time()\n",
    "    google_accdf.iloc[i,2] = knn(\"google\",google_iter[i][0],google_iter[i][1])\n",
    "    t1 = time()\n",
    "    google_timedf.iloc[i,2] = t1-t0\n",
    "#     t0 = time()\n",
    "#     skh = sinkhorn_implementation(\"caffe\",caffe_iter[i][0],caffe_iter[i][1])\n",
    "#     caffe_accdf.iloc[i,1] = skh\n",
    "#     t1 = time()\n",
    "#     caffe_timedf.iloc[i,1] = t1-t0"
   ]
  },
  {
   "cell_type": "code",
   "execution_count": 154,
   "metadata": {},
   "outputs": [
    {
     "name": "stderr",
     "output_type": "stream",
     "text": [
      "<ipython-input-15-26e9fec55c6a>:24: DataConversionWarning: A column-vector y was passed when a 1d array was expected. Please change the shape of y to (n_samples, ), for example using ravel().\n",
      "  knn.fit(sa,y_S)\n",
      "<ipython-input-15-26e9fec55c6a>:41: DataConversionWarning: A column-vector y was passed when a 1d array was expected. Please change the shape of y to (n_samples, ), for example using ravel().\n",
      "  knn.fit(x_S,y_S)\n",
      "C:\\Users\\User\\anaconda3\\lib\\site-packages\\ot\\bregman.py:363: RuntimeWarning: overflow encountered in true_divide\n",
      "  v = np.divide(b, KtransposeU)\n",
      "<ipython-input-15-26e9fec55c6a>:24: DataConversionWarning: A column-vector y was passed when a 1d array was expected. Please change the shape of y to (n_samples, ), for example using ravel().\n",
      "  knn.fit(sa,y_S)\n"
     ]
    },
    {
     "name": "stdout",
     "output_type": "stream",
     "text": [
      "Warning: numerical errors at iteration 595\n"
     ]
    },
    {
     "name": "stderr",
     "output_type": "stream",
     "text": [
      "<ipython-input-15-26e9fec55c6a>:41: DataConversionWarning: A column-vector y was passed when a 1d array was expected. Please change the shape of y to (n_samples, ), for example using ravel().\n",
      "  knn.fit(x_S,y_S)\n",
      "<ipython-input-15-26e9fec55c6a>:24: DataConversionWarning: A column-vector y was passed when a 1d array was expected. Please change the shape of y to (n_samples, ), for example using ravel().\n",
      "  knn.fit(sa,y_S)\n",
      "<ipython-input-15-26e9fec55c6a>:41: DataConversionWarning: A column-vector y was passed when a 1d array was expected. Please change the shape of y to (n_samples, ), for example using ravel().\n",
      "  knn.fit(x_S,y_S)\n",
      "C:\\Users\\User\\anaconda3\\lib\\site-packages\\ot\\bregman.py:363: RuntimeWarning: overflow encountered in true_divide\n",
      "  v = np.divide(b, KtransposeU)\n",
      "<ipython-input-15-26e9fec55c6a>:24: DataConversionWarning: A column-vector y was passed when a 1d array was expected. Please change the shape of y to (n_samples, ), for example using ravel().\n",
      "  knn.fit(sa,y_S)\n"
     ]
    },
    {
     "name": "stdout",
     "output_type": "stream",
     "text": [
      "Warning: numerical errors at iteration 388\n"
     ]
    },
    {
     "name": "stderr",
     "output_type": "stream",
     "text": [
      "<ipython-input-15-26e9fec55c6a>:41: DataConversionWarning: A column-vector y was passed when a 1d array was expected. Please change the shape of y to (n_samples, ), for example using ravel().\n",
      "  knn.fit(x_S,y_S)\n",
      "C:\\Users\\User\\anaconda3\\lib\\site-packages\\ot\\bregman.py:364: RuntimeWarning: overflow encountered in true_divide\n",
      "  u = 1. / np.dot(Kp, v)\n",
      "<ipython-input-15-26e9fec55c6a>:24: DataConversionWarning: A column-vector y was passed when a 1d array was expected. Please change the shape of y to (n_samples, ), for example using ravel().\n",
      "  knn.fit(sa,y_S)\n"
     ]
    },
    {
     "name": "stdout",
     "output_type": "stream",
     "text": [
      "Warning: numerical errors at iteration 605\n"
     ]
    },
    {
     "name": "stderr",
     "output_type": "stream",
     "text": [
      "<ipython-input-15-26e9fec55c6a>:41: DataConversionWarning: A column-vector y was passed when a 1d array was expected. Please change the shape of y to (n_samples, ), for example using ravel().\n",
      "  knn.fit(x_S,y_S)\n",
      "C:\\Users\\User\\anaconda3\\lib\\site-packages\\ot\\bregman.py:364: RuntimeWarning: overflow encountered in true_divide\n",
      "  u = 1. / np.dot(Kp, v)\n",
      "<ipython-input-15-26e9fec55c6a>:24: DataConversionWarning: A column-vector y was passed when a 1d array was expected. Please change the shape of y to (n_samples, ), for example using ravel().\n",
      "  knn.fit(sa,y_S)\n"
     ]
    },
    {
     "name": "stdout",
     "output_type": "stream",
     "text": [
      "Warning: numerical errors at iteration 394\n"
     ]
    },
    {
     "name": "stderr",
     "output_type": "stream",
     "text": [
      "<ipython-input-15-26e9fec55c6a>:41: DataConversionWarning: A column-vector y was passed when a 1d array was expected. Please change the shape of y to (n_samples, ), for example using ravel().\n",
      "  knn.fit(x_S,y_S)\n"
     ]
    }
   ],
   "source": [
    "#surf\n",
    "\n",
    "list1 = [\"webcam\",\"dslr\",\"amazon\"]\n",
    "index = list(permutations(list1,2))\n",
    "methods = [\"sinkhorn library\",\"sinkhorn implementation\",\"without sinkhorn\"]\n",
    "surf_timedf = pd.DataFrame(index=index,columns=methods)\n",
    "surf_accdf = pd.DataFrame(index=index,columns=methods)\n",
    "\n",
    "for i in range(len(index)):\n",
    "    t0 = time()\n",
    "    ent = entropic_ot(\"surf\",surf_iter[i][0],surf_iter[i][1],0.1)\n",
    "    surf_accdf.iloc[i,0] = ent.fit_predict()\n",
    "    t1 = time()\n",
    "    surf_timedf.iloc[i,0] = t1-t0\n",
    "    t0 = time()\n",
    "    surf_accdf.iloc[i,2] = knn(\"surf\",surf_iter[i][0],surf_iter[i][1])\n",
    "    t1 = time()\n",
    "    surf_timedf.iloc[i,2] = t1-t0\n",
    "#     t0 = time()\n",
    "#     skh = sinkhorn_implementation(\"caffe\",caffe_iter[i][0],caffe_iter[i][1])\n",
    "#     caffe_accdf.iloc[i,1] = skh\n",
    "#     t1 = time()\n",
    "#     caffe_timedf.iloc[i,1] = t1-t0"
   ]
  },
  {
   "cell_type": "code",
   "execution_count": 177,
   "metadata": {},
   "outputs": [
    {
     "name": "stderr",
     "output_type": "stream",
     "text": [
      "<ipython-input-176-4954fa484a55>:27: DataConversionWarning: A column-vector y was passed when a 1d array was expected. Please change the shape of y to (n_samples, ), for example using ravel().\n",
      "  knn.fit(sa,y_S)\n"
     ]
    },
    {
     "name": "stdout",
     "output_type": "stream",
     "text": [
      "17.197452229299362\n"
     ]
    }
   ],
   "source": [
    "#for experiments by varying values of gamma\n",
    "i = 0\n",
    "t0 = time()\n",
    "skh = sinkhorn_implementation(\"surf\",surf_iter[i][0],surf_iter[i][1])\n",
    "surf_accdf.iloc[i,1] = skh\n",
    "t1 = time()\n",
    "surf_timedf.iloc[i,1] = t1-t0\n",
    "print(skh)"
   ]
  },
  {
   "cell_type": "code",
   "execution_count": 178,
   "metadata": {},
   "outputs": [
    {
     "data": {
      "text/html": [
       "<div>\n",
       "<style scoped>\n",
       "    .dataframe tbody tr th:only-of-type {\n",
       "        vertical-align: middle;\n",
       "    }\n",
       "\n",
       "    .dataframe tbody tr th {\n",
       "        vertical-align: top;\n",
       "    }\n",
       "\n",
       "    .dataframe thead th {\n",
       "        text-align: right;\n",
       "    }\n",
       "</style>\n",
       "<table border=\"1\" class=\"dataframe\">\n",
       "  <thead>\n",
       "    <tr style=\"text-align: right;\">\n",
       "      <th></th>\n",
       "      <th>sinkhorn library</th>\n",
       "      <th>sinkhorn implementation</th>\n",
       "      <th>without sinkhorn</th>\n",
       "    </tr>\n",
       "  </thead>\n",
       "  <tbody>\n",
       "    <tr>\n",
       "      <th>(webcam, dslr)</th>\n",
       "      <td>55.414</td>\n",
       "      <td>56.051</td>\n",
       "      <td>30.5732</td>\n",
       "    </tr>\n",
       "    <tr>\n",
       "      <th>(webcam, amazon)</th>\n",
       "      <td>28.1837</td>\n",
       "      <td>26.3048</td>\n",
       "      <td>17.5365</td>\n",
       "    </tr>\n",
       "    <tr>\n",
       "      <th>(dslr, webcam)</th>\n",
       "      <td>54.2373</td>\n",
       "      <td>58.3051</td>\n",
       "      <td>31.1864</td>\n",
       "    </tr>\n",
       "    <tr>\n",
       "      <th>(dslr, amazon)</th>\n",
       "      <td>28.81</td>\n",
       "      <td>12.2129</td>\n",
       "      <td>13.9875</td>\n",
       "    </tr>\n",
       "    <tr>\n",
       "      <th>(amazon, webcam)</th>\n",
       "      <td>32.5424</td>\n",
       "      <td>33.5593</td>\n",
       "      <td>17.6271</td>\n",
       "    </tr>\n",
       "    <tr>\n",
       "      <th>(amazon, dslr)</th>\n",
       "      <td>34.3949</td>\n",
       "      <td>17.1975</td>\n",
       "      <td>11.465</td>\n",
       "    </tr>\n",
       "  </tbody>\n",
       "</table>\n",
       "</div>"
      ],
      "text/plain": [
       "                 sinkhorn library sinkhorn implementation without sinkhorn\n",
       "(webcam, dslr)             55.414                  56.051          30.5732\n",
       "(webcam, amazon)          28.1837                 26.3048          17.5365\n",
       "(dslr, webcam)            54.2373                 58.3051          31.1864\n",
       "(dslr, amazon)              28.81                 12.2129          13.9875\n",
       "(amazon, webcam)          32.5424                 33.5593          17.6271\n",
       "(amazon, dslr)            34.3949                 17.1975           11.465"
      ]
     },
     "execution_count": 178,
     "metadata": {},
     "output_type": "execute_result"
    }
   ],
   "source": [
    "surf_accdf"
   ]
  },
  {
   "cell_type": "code",
   "execution_count": 181,
   "metadata": {},
   "outputs": [
    {
     "data": {
      "text/html": [
       "<div>\n",
       "<style scoped>\n",
       "    .dataframe tbody tr th:only-of-type {\n",
       "        vertical-align: middle;\n",
       "    }\n",
       "\n",
       "    .dataframe tbody tr th {\n",
       "        vertical-align: top;\n",
       "    }\n",
       "\n",
       "    .dataframe thead th {\n",
       "        text-align: right;\n",
       "    }\n",
       "</style>\n",
       "<table border=\"1\" class=\"dataframe\">\n",
       "  <thead>\n",
       "    <tr style=\"text-align: right;\">\n",
       "      <th></th>\n",
       "      <th>sinkhorn library</th>\n",
       "      <th>sinkhorn implementation</th>\n",
       "      <th>without sinkhorn</th>\n",
       "    </tr>\n",
       "  </thead>\n",
       "  <tbody>\n",
       "    <tr>\n",
       "      <th>(webcam, dslr)</th>\n",
       "      <td>0.20847</td>\n",
       "      <td>0.162536</td>\n",
       "      <td>0.119691</td>\n",
       "    </tr>\n",
       "    <tr>\n",
       "      <th>(webcam, amazon)</th>\n",
       "      <td>0.862689</td>\n",
       "      <td>0.89953</td>\n",
       "      <td>0.535571</td>\n",
       "    </tr>\n",
       "    <tr>\n",
       "      <th>(dslr, webcam)</th>\n",
       "      <td>0.165522</td>\n",
       "      <td>0.162564</td>\n",
       "      <td>0.0937493</td>\n",
       "    </tr>\n",
       "    <tr>\n",
       "      <th>(dslr, amazon)</th>\n",
       "      <td>0.453831</td>\n",
       "      <td>0.393946</td>\n",
       "      <td>0.271275</td>\n",
       "    </tr>\n",
       "    <tr>\n",
       "      <th>(amazon, webcam)</th>\n",
       "      <td>0.688167</td>\n",
       "      <td>0.585432</td>\n",
       "      <td>0.506642</td>\n",
       "    </tr>\n",
       "    <tr>\n",
       "      <th>(amazon, dslr)</th>\n",
       "      <td>0.43205</td>\n",
       "      <td>0.446838</td>\n",
       "      <td>0.322095</td>\n",
       "    </tr>\n",
       "  </tbody>\n",
       "</table>\n",
       "</div>"
      ],
      "text/plain": [
       "                 sinkhorn library sinkhorn implementation without sinkhorn\n",
       "(webcam, dslr)            0.20847                0.162536         0.119691\n",
       "(webcam, amazon)         0.862689                 0.89953         0.535571\n",
       "(dslr, webcam)           0.165522                0.162564        0.0937493\n",
       "(dslr, amazon)           0.453831                0.393946         0.271275\n",
       "(amazon, webcam)         0.688167                0.585432         0.506642\n",
       "(amazon, dslr)            0.43205                0.446838         0.322095"
      ]
     },
     "execution_count": 181,
     "metadata": {},
     "output_type": "execute_result"
    }
   ],
   "source": [
    "surf_timedf"
   ]
  },
  {
   "cell_type": "code",
   "execution_count": null,
   "metadata": {},
   "outputs": [],
   "source": []
  },
  {
   "cell_type": "code",
   "execution_count": null,
   "metadata": {},
   "outputs": [],
   "source": []
  }
 ],
 "metadata": {
  "kernelspec": {
   "display_name": "Python 3",
   "language": "python",
   "name": "python3"
  },
  "language_info": {
   "codemirror_mode": {
    "name": "ipython",
    "version": 3
   },
   "file_extension": ".py",
   "mimetype": "text/x-python",
   "name": "python",
   "nbconvert_exporter": "python",
   "pygments_lexer": "ipython3",
   "version": "3.8.3"
  }
 },
 "nbformat": 4,
 "nbformat_minor": 4
}
